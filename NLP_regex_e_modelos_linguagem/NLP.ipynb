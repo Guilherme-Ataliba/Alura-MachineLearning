{
 "cells": [
  {
   "cell_type": "code",
   "execution_count": 115,
   "metadata": {},
   "outputs": [
    {
     "name": "stdout",
     "output_type": "stream",
     "text": [
      "<p>Desenvolvi uma página em PHP para uso interno da empresa que trabalho e apenas pouquíssimas pessoas a utilizam. Através dessa página é possível fazer algumas consultas, inserções, alterações e remoções de dados de uma tabela em um banco de dados MySQL, porém eu acredito que meu código em PHP não está protegido contra injeção de código SQL, por exemplo:</p>\n",
      "\n",
      "<pre><code>//----CONSULTA SQL----//\n",
      "$busca = mysql_query ('insert into Produtos (coluna) values(' . $valor . ')');\n",
      "</code></pre>\n",
      "\n",
      "<p>Logo, digamos que o usuário usar a sentença: <code>1); DROP TABLE Produtos;</code> para ao campo <code>valor</code> o comando ficaria: </p>\n",
      "\n",
      "<pre><code>insert into Produtos (coluna) values(1); DROP TABLE Produtos;\n",
      "</code></pre>\n",
      "\n",
      "<p>Ele vai inserir um novo registro cujo o campo <code>coluna</code> será <code>1</code> e logo em seguida ele vai deletar a tabela Produtos.</p>\n",
      "\n",
      "<p>Como posso melhorar meu código para prevenir essa situação?</p>\n",
      "\n"
     ]
    }
   ],
   "source": [
    "import pandas as pd\n",
    "import re\n",
    "\n",
    "dados_portugues = pd.read_csv(\"data/stackoverflow_portugues.csv\")\n",
    "dados_portugues.head()\n",
    "\n",
    "questao_portugues = dados_portugues[\"Questão\"][5]\n",
    "print(questao_portugues)"
   ]
  },
  {
   "cell_type": "code",
   "execution_count": 116,
   "metadata": {},
   "outputs": [],
   "source": [
    "dados_ingles = pd.read_csv(\"data/stackoverflow_ingles.csv\")\n",
    "dados_espanhol = pd.read_csv(\"data/stackoverflow_espanhol.csv\", \n",
    "                             sep=\";\", encoding=\"cp1252\")\n"
   ]
  },
  {
   "cell_type": "markdown",
   "metadata": {},
   "source": [
    "# Testing Regex"
   ]
  },
  {
   "cell_type": "code",
   "execution_count": 117,
   "metadata": {},
   "outputs": [
    {
     "data": {
      "text/plain": [
       "['<p>',\n",
       " '</p>',\n",
       " '<pre>',\n",
       " '<code>',\n",
       " '</code>',\n",
       " '</pre>',\n",
       " '<p>',\n",
       " '<code>',\n",
       " '</code>',\n",
       " '<code>',\n",
       " '</code>',\n",
       " '</p>',\n",
       " '<pre>',\n",
       " '<code>',\n",
       " '</code>',\n",
       " '</pre>',\n",
       " '<p>',\n",
       " '<code>',\n",
       " '</code>',\n",
       " '<code>',\n",
       " '</code>',\n",
       " '</p>',\n",
       " '<p>',\n",
       " '</p>']"
      ]
     },
     "execution_count": 117,
     "metadata": {},
     "output_type": "execute_result"
    }
   ],
   "source": [
    "re.findall(r\"<.*?>\", questao_portugues)"
   ]
  },
  {
   "cell_type": "code",
   "execution_count": 118,
   "metadata": {},
   "outputs": [
    {
     "data": {
      "text/plain": [
       "\"Desenvolvi uma página em PHP para uso interno da empresa que trabalho e apenas pouquíssimas pessoas a utilizam. Através dessa página é possível fazer algumas consultas, inserções, alterações e remoções de dados de uma tabela em um banco de dados MySQL, porém eu acredito que meu código em PHP não está protegido contra injeção de código SQL, por exemplo:\\n\\n//----CONSULTA SQL----//\\n$busca = mysql_query ('insert into Produtos (coluna) values(' . $valor . ')');\\n\\n\\nLogo, digamos que o usuário usar a sentença: 1); DROP TABLE Produtos; para ao campo valor o comando ficaria: \\n\\ninsert into Produtos (coluna) values(1); DROP TABLE Produtos;\\n\\n\\nEle vai inserir um novo registro cujo o campo coluna será 1 e logo em seguida ele vai deletar a tabela Produtos.\\n\\nComo posso melhorar meu código para prevenir essa situação?\\n\""
      ]
     },
     "execution_count": 118,
     "metadata": {},
     "output_type": "execute_result"
    }
   ],
   "source": [
    "re.sub(r\"<.*?>\", \"\", questao_portugues)"
   ]
  },
  {
   "cell_type": "code",
   "execution_count": 119,
   "metadata": {},
   "outputs": [
    {
     "data": {
      "text/plain": [
       "<re.Match object; span=(16, 18), match='70'>"
      ]
     },
     "execution_count": 119,
     "metadata": {},
     "output_type": "execute_result"
    }
   ],
   "source": [
    "regex = re.compile(r\"70\")\n",
    "regex.search(\"684746216489798770\")"
   ]
  },
  {
   "cell_type": "code",
   "execution_count": 120,
   "metadata": {},
   "outputs": [],
   "source": [
    "def remover(textos, regex):\n",
    "    if type(textos) == str:\n",
    "        return regex.sub(\"\", textos)\n",
    "    else:\n",
    "        return [regex.sub(\"\", texto) for texto in textos]\n",
    "    \n",
    "def substituir_codigo(textos, regex):\n",
    "    if type(textos) == str:\n",
    "        return regex.sub(\"CODE\", textos)\n",
    "    else:\n",
    "        return [regex.sub(\"CODE\", texto) for texto in textos]"
   ]
  },
  {
   "cell_type": "code",
   "execution_count": 121,
   "metadata": {},
   "outputs": [],
   "source": [
    "regex_HTML = re.compile(r\"<.*?>\")\n",
    "regex_code = re.compile(r\"<code>(.|\\n)*?</code>\")"
   ]
  },
  {
   "cell_type": "code",
   "execution_count": 122,
   "metadata": {},
   "outputs": [],
   "source": [
    "questao_portugues_sem_tag = remover(questao_portugues, regex_HTML)"
   ]
  },
  {
   "cell_type": "code",
   "execution_count": 123,
   "metadata": {},
   "outputs": [
    {
     "name": "stdout",
     "output_type": "stream",
     "text": [
      "<p>Desenvolvi uma página em PHP para uso interno da empresa que trabalho e apenas pouquíssimas pessoas a utilizam. Através dessa página é possível fazer algumas consultas, inserções, alterações e remoções de dados de uma tabela em um banco de dados MySQL, porém eu acredito que meu código em PHP não está protegido contra injeção de código SQL, por exemplo:</p>\n",
      "\n",
      "<pre>CODE</pre>\n",
      "\n",
      "<p>Logo, digamos que o usuário usar a sentença: CODE para ao campo CODE o comando ficaria: </p>\n",
      "\n",
      "<pre>CODE</pre>\n",
      "\n",
      "<p>Ele vai inserir um novo registro cujo o campo CODE será CODE e logo em seguida ele vai deletar a tabela Produtos.</p>\n",
      "\n",
      "<p>Como posso melhorar meu código para prevenir essa situação?</p>\n",
      "\n"
     ]
    }
   ],
   "source": [
    "print(substituir_codigo(questao_portugues, regex_code))"
   ]
  },
  {
   "cell_type": "markdown",
   "metadata": {},
   "source": [
    "# Data Manip With Regex"
   ]
  },
  {
   "cell_type": "code",
   "execution_count": 124,
   "metadata": {},
   "outputs": [],
   "source": [
    "regex_HTML = re.compile(r\"<.*?>\")\n",
    "regex_code = re.compile(r\"<code>(.|\\n)*?</code>\")\n",
    "regex_pontuacao = re.compile(r\"[^[\\w\\s]]\")\n",
    "regex_digitos = re.compile(r\"\\d+\")\n",
    "regex_espaco = re.compile(r\" +\")\n",
    "regex_quebra_linha = re.compile(r\"(\\n)\")\n",
    "\n",
    "def substituir(textos, regex, subs=\"\"):\n",
    "    if type(textos) == str:\n",
    "        return regex.sub(subs, textos)\n",
    "    else:\n",
    "        return [regex.sub(subs, texto) for texto in textos]\n",
    "    \n",
    "def minusculo(textos):\n",
    "    if type(textos) == str:\n",
    "        return textos.lower()\n",
    "    else:\n",
    "        return [texto.lower() for texto in textos]\n",
    "    \n",
    "def add_preprocessed_column(data):\n",
    "    questoes_sem_code = substituir(data[\"Questão\"], regex_code, \"CODE\")\n",
    "    questoes_sem_code_tag = substituir(questoes_sem_code, regex_HTML)\n",
    "    data[\"sem_code_tag\"] = questoes_sem_code_tag\n",
    "\n",
    "    questoes_sem_pont = substituir(questoes_sem_code_tag, regex_pontuacao)\n",
    "    questoes_sem_pont_min = minusculo(questoes_sem_pont)\n",
    "    questoes_sem_pont_min_dig = substituir(questoes_sem_pont_min, regex_digitos)\n",
    "    questoes_sem_quebra_linha = substituir(questoes_sem_pont_min_dig, \n",
    "                                           regex_quebra_linha, \" \")\n",
    "    questoes_sem_espaco_duplicado = substituir(questoes_sem_quebra_linha, \n",
    "                                               regex_espaco, \" \")\n",
    "    \n",
    "    \n",
    "    data[\"dados_tratados\"] = questoes_sem_espaco_duplicado\n",
    "    return data\n"
   ]
  },
  {
   "cell_type": "code",
   "execution_count": 125,
   "metadata": {},
   "outputs": [],
   "source": [
    "dados_portugues = add_preprocessed_column(dados_portugues)\n",
    "dados_ingles = add_preprocessed_column(dados_ingles)\n",
    "dados_espanhol = add_preprocessed_column(dados_espanhol)"
   ]
  },
  {
   "cell_type": "code",
   "execution_count": 126,
   "metadata": {},
   "outputs": [
    {
     "data": {
      "text/html": [
       "<div>\n",
       "<style scoped>\n",
       "    .dataframe tbody tr th:only-of-type {\n",
       "        vertical-align: middle;\n",
       "    }\n",
       "\n",
       "    .dataframe tbody tr th {\n",
       "        vertical-align: top;\n",
       "    }\n",
       "\n",
       "    .dataframe thead th {\n",
       "        text-align: right;\n",
       "    }\n",
       "</style>\n",
       "<table border=\"1\" class=\"dataframe\">\n",
       "  <thead>\n",
       "    <tr style=\"text-align: right;\">\n",
       "      <th></th>\n",
       "      <th>Id</th>\n",
       "      <th>Título</th>\n",
       "      <th>Questão</th>\n",
       "      <th>Tags</th>\n",
       "      <th>Pontuação</th>\n",
       "      <th>Visualizações</th>\n",
       "      <th>sem_code_tag</th>\n",
       "      <th>dados_tratados</th>\n",
       "    </tr>\n",
       "  </thead>\n",
       "  <tbody>\n",
       "    <tr>\n",
       "      <th>0</th>\n",
       "      <td>2402</td>\n",
       "      <td>Como fazer hash de senhas de forma segura?</td>\n",
       "      <td>&lt;p&gt;Se eu fizer o &lt;em&gt;&lt;a href=\"http://pt.wikipe...</td>\n",
       "      <td>&lt;hash&gt;&lt;segurança&gt;&lt;senhas&gt;&lt;criptografia&gt;</td>\n",
       "      <td>350</td>\n",
       "      <td>22367</td>\n",
       "      <td>Se eu fizer o hash de senhas antes de armazená...</td>\n",
       "      <td>se eu fizer o hash de senhas antes de armazená...</td>\n",
       "    </tr>\n",
       "    <tr>\n",
       "      <th>1</th>\n",
       "      <td>6441</td>\n",
       "      <td>Qual é a diferença entre INNER JOIN e OUTER JOIN?</td>\n",
       "      <td>&lt;p&gt;Qual é a diferença entre &lt;code&gt;INNER JOIN&lt;/...</td>\n",
       "      <td>&lt;sql&gt;&lt;join&gt;</td>\n",
       "      <td>276</td>\n",
       "      <td>176953</td>\n",
       "      <td>Qual é a diferença entre CODE e CODE? Podem me...</td>\n",
       "      <td>qual é a diferença entre code e code? podem me...</td>\n",
       "    </tr>\n",
       "    <tr>\n",
       "      <th>2</th>\n",
       "      <td>579</td>\n",
       "      <td>Por que não devemos usar funções do tipo mysql_*?</td>\n",
       "      <td>&lt;p&gt;Uma dúvida muito comum é por que devemos pa...</td>\n",
       "      <td>&lt;php&gt;&lt;mysql&gt;</td>\n",
       "      <td>226</td>\n",
       "      <td>9761</td>\n",
       "      <td>Uma dúvida muito comum é por que devemos parar...</td>\n",
       "      <td>uma dúvida muito comum é por que devemos parar...</td>\n",
       "    </tr>\n",
       "    <tr>\n",
       "      <th>3</th>\n",
       "      <td>2539</td>\n",
       "      <td>As mensagens de erro devem se desculpar?</td>\n",
       "      <td>&lt;p&gt;É comum encontrar uma mensagem de erro que ...</td>\n",
       "      <td>&lt;aplicação-web&gt;&lt;gui&gt;&lt;console&gt;&lt;ux&gt;</td>\n",
       "      <td>214</td>\n",
       "      <td>5075</td>\n",
       "      <td>É comum encontrar uma mensagem de erro que diz...</td>\n",
       "      <td>é comum encontrar uma mensagem de erro que diz...</td>\n",
       "    </tr>\n",
       "    <tr>\n",
       "      <th>4</th>\n",
       "      <td>17501</td>\n",
       "      <td>Qual é a diferença de API, biblioteca e Framew...</td>\n",
       "      <td>&lt;p&gt;Me parecem termos muito próximos e eventual...</td>\n",
       "      <td>&lt;api&gt;&lt;framework&gt;&lt;terminologia&gt;&lt;biblioteca&gt;</td>\n",
       "      <td>193</td>\n",
       "      <td>54191</td>\n",
       "      <td>Me parecem termos muito próximos e eventualmen...</td>\n",
       "      <td>me parecem termos muito próximos e eventualmen...</td>\n",
       "    </tr>\n",
       "    <tr>\n",
       "      <th>...</th>\n",
       "      <td>...</td>\n",
       "      <td>...</td>\n",
       "      <td>...</td>\n",
       "      <td>...</td>\n",
       "      <td>...</td>\n",
       "      <td>...</td>\n",
       "      <td>...</td>\n",
       "      <td>...</td>\n",
       "    </tr>\n",
       "    <tr>\n",
       "      <th>495</th>\n",
       "      <td>194857</td>\n",
       "      <td>O que é Polyfill?</td>\n",
       "      <td>&lt;p&gt;Já vi esse termo &lt;em&gt;Polyfill&lt;/em&gt; sendo ut...</td>\n",
       "      <td>&lt;javascript&gt;&lt;terminologia&gt;&lt;polyfill&gt;</td>\n",
       "      <td>26</td>\n",
       "      <td>6860</td>\n",
       "      <td>Já vi esse termo Polyfill sendo utilizado vári...</td>\n",
       "      <td>já vi esse termo polyfill sendo utilizado vári...</td>\n",
       "    </tr>\n",
       "    <tr>\n",
       "      <th>496</th>\n",
       "      <td>323137</td>\n",
       "      <td>Pra que serve o comando LOCK TABLES?</td>\n",
       "      <td>&lt;p&gt;Esses dias me deparei com um trecho de um S...</td>\n",
       "      <td>&lt;mysql&gt;</td>\n",
       "      <td>26</td>\n",
       "      <td>657</td>\n",
       "      <td>Esses dias me deparei com um trecho de um SQL ...</td>\n",
       "      <td>esses dias me deparei com um trecho de um sql ...</td>\n",
       "    </tr>\n",
       "    <tr>\n",
       "      <th>497</th>\n",
       "      <td>232958</td>\n",
       "      <td>O que é um valor opaco?</td>\n",
       "      <td>&lt;p&gt;Por vezes vejo em documentações ou especifi...</td>\n",
       "      <td>&lt;nomenclatura&gt;</td>\n",
       "      <td>26</td>\n",
       "      <td>587</td>\n",
       "      <td>Por vezes vejo em documentações ou especificaç...</td>\n",
       "      <td>por vezes vejo em documentações ou especificaç...</td>\n",
       "    </tr>\n",
       "    <tr>\n",
       "      <th>498</th>\n",
       "      <td>227907</td>\n",
       "      <td>O que são Proxy, Gateway e Tunnel no protocolo...</td>\n",
       "      <td>&lt;p&gt;Na especificação do protocolo HTTP, mais pr...</td>\n",
       "      <td>&lt;http&gt;</td>\n",
       "      <td>26</td>\n",
       "      <td>625</td>\n",
       "      <td>Na especificação do protocolo HTTP, mais preci...</td>\n",
       "      <td>na especificação do protocolo http, mais preci...</td>\n",
       "    </tr>\n",
       "    <tr>\n",
       "      <th>499</th>\n",
       "      <td>34042</td>\n",
       "      <td>Recortar imagem com javascript</td>\n",
       "      <td>&lt;p&gt;Eu preciso fazer o upload de uma foto e em ...</td>\n",
       "      <td>&lt;php&gt;&lt;javascript&gt;&lt;jquery&gt;</td>\n",
       "      <td>26</td>\n",
       "      <td>1537</td>\n",
       "      <td>Eu preciso fazer o upload de uma foto e em seg...</td>\n",
       "      <td>eu preciso fazer o upload de uma foto e em seg...</td>\n",
       "    </tr>\n",
       "  </tbody>\n",
       "</table>\n",
       "<p>500 rows × 8 columns</p>\n",
       "</div>"
      ],
      "text/plain": [
       "         Id                                             Título  \\\n",
       "0      2402         Como fazer hash de senhas de forma segura?   \n",
       "1      6441  Qual é a diferença entre INNER JOIN e OUTER JOIN?   \n",
       "2       579  Por que não devemos usar funções do tipo mysql_*?   \n",
       "3      2539           As mensagens de erro devem se desculpar?   \n",
       "4     17501  Qual é a diferença de API, biblioteca e Framew...   \n",
       "..      ...                                                ...   \n",
       "495  194857                                  O que é Polyfill?   \n",
       "496  323137               Pra que serve o comando LOCK TABLES?   \n",
       "497  232958                            O que é um valor opaco?   \n",
       "498  227907  O que são Proxy, Gateway e Tunnel no protocolo...   \n",
       "499   34042                     Recortar imagem com javascript   \n",
       "\n",
       "                                               Questão  \\\n",
       "0    <p>Se eu fizer o <em><a href=\"http://pt.wikipe...   \n",
       "1    <p>Qual é a diferença entre <code>INNER JOIN</...   \n",
       "2    <p>Uma dúvida muito comum é por que devemos pa...   \n",
       "3    <p>É comum encontrar uma mensagem de erro que ...   \n",
       "4    <p>Me parecem termos muito próximos e eventual...   \n",
       "..                                                 ...   \n",
       "495  <p>Já vi esse termo <em>Polyfill</em> sendo ut...   \n",
       "496  <p>Esses dias me deparei com um trecho de um S...   \n",
       "497  <p>Por vezes vejo em documentações ou especifi...   \n",
       "498  <p>Na especificação do protocolo HTTP, mais pr...   \n",
       "499  <p>Eu preciso fazer o upload de uma foto e em ...   \n",
       "\n",
       "                                           Tags  Pontuação  Visualizações  \\\n",
       "0       <hash><segurança><senhas><criptografia>        350          22367   \n",
       "1                                   <sql><join>        276         176953   \n",
       "2                                  <php><mysql>        226           9761   \n",
       "3             <aplicação-web><gui><console><ux>        214           5075   \n",
       "4    <api><framework><terminologia><biblioteca>        193          54191   \n",
       "..                                          ...        ...            ...   \n",
       "495        <javascript><terminologia><polyfill>         26           6860   \n",
       "496                                     <mysql>         26            657   \n",
       "497                              <nomenclatura>         26            587   \n",
       "498                                      <http>         26            625   \n",
       "499                   <php><javascript><jquery>         26           1537   \n",
       "\n",
       "                                          sem_code_tag  \\\n",
       "0    Se eu fizer o hash de senhas antes de armazená...   \n",
       "1    Qual é a diferença entre CODE e CODE? Podem me...   \n",
       "2    Uma dúvida muito comum é por que devemos parar...   \n",
       "3    É comum encontrar uma mensagem de erro que diz...   \n",
       "4    Me parecem termos muito próximos e eventualmen...   \n",
       "..                                                 ...   \n",
       "495  Já vi esse termo Polyfill sendo utilizado vári...   \n",
       "496  Esses dias me deparei com um trecho de um SQL ...   \n",
       "497  Por vezes vejo em documentações ou especificaç...   \n",
       "498  Na especificação do protocolo HTTP, mais preci...   \n",
       "499  Eu preciso fazer o upload de uma foto e em seg...   \n",
       "\n",
       "                                        dados_tratados  \n",
       "0    se eu fizer o hash de senhas antes de armazená...  \n",
       "1    qual é a diferença entre code e code? podem me...  \n",
       "2    uma dúvida muito comum é por que devemos parar...  \n",
       "3    é comum encontrar uma mensagem de erro que diz...  \n",
       "4    me parecem termos muito próximos e eventualmen...  \n",
       "..                                                 ...  \n",
       "495  já vi esse termo polyfill sendo utilizado vári...  \n",
       "496  esses dias me deparei com um trecho de um sql ...  \n",
       "497  por vezes vejo em documentações ou especificaç...  \n",
       "498  na especificação do protocolo http, mais preci...  \n",
       "499  eu preciso fazer o upload de uma foto e em seg...  \n",
       "\n",
       "[500 rows x 8 columns]"
      ]
     },
     "execution_count": 126,
     "metadata": {},
     "output_type": "execute_result"
    }
   ],
   "source": [
    "dados_portugues"
   ]
  },
  {
   "cell_type": "markdown",
   "metadata": {},
   "source": [
    "# Natural Language Model"
   ]
  },
  {
   "cell_type": "code",
   "execution_count": 127,
   "metadata": {},
   "outputs": [
    {
     "data": {
      "text/plain": [
       "[('<s>', 'a'), ('a', 'l'), ('l', 'u'), ('u', 'r'), ('r', 'a'), ('a', '</s>')]"
      ]
     },
     "execution_count": 127,
     "metadata": {},
     "output_type": "execute_result"
    }
   ],
   "source": [
    "from nltk.util import bigrams\n",
    "from nltk.lm.preprocessing import pad_both_ends\n",
    "\n",
    "texto_teste = \"alura\"\n",
    "list(bigrams(pad_both_ends(texto_teste, n=2)))"
   ]
  },
  {
   "cell_type": "markdown",
   "metadata": {},
   "source": [
    "### Adding Labels"
   ]
  },
  {
   "cell_type": "code",
   "execution_count": 128,
   "metadata": {},
   "outputs": [],
   "source": [
    "dados_portugues[\"idioma\"] = \"port\"\n",
    "dados_ingles[\"idioma\"] = \"ing\"\n",
    "dados_espanhol[\"idioma\"] = \"esp\""
   ]
  },
  {
   "cell_type": "markdown",
   "metadata": {},
   "source": [
    "# Creating Model - MLE"
   ]
  },
  {
   "cell_type": "code",
   "execution_count": 129,
   "metadata": {},
   "outputs": [],
   "source": [
    "from sklearn.model_selection import train_test_split\n",
    "\n",
    "port_treino, port_teste = train_test_split(dados_portugues[\"dados_tratados\"],\n",
    "                                           test_size=0.2, random_state=42)\n",
    "esp_treino, esp_teste = train_test_split(dados_espanhol[\"dados_tratados\"],\n",
    "                                           test_size=0.2, random_state=42)\n",
    "ing_treino, ing_teste = train_test_split(dados_ingles[\"dados_tratados\"],\n",
    "                                           test_size=0.2, random_state=42)                                           "
   ]
  },
  {
   "cell_type": "code",
   "execution_count": 130,
   "metadata": {},
   "outputs": [],
   "source": [
    "from nltk.tokenize import WhitespaceTokenizer\n",
    "\n",
    "todas_questoes_port = ' '.join(port_treino)\n",
    "\n",
    "todas_palavras_port = WhitespaceTokenizer().tokenize(todas_questoes_port)"
   ]
  },
  {
   "cell_type": "markdown",
   "metadata": {},
   "source": [
    "The method padded_everygram_pipeline already separates the data into the informed number of ngrams and adds the fake chars in every setence. It also returns two values that can be directly used in nltk models. "
   ]
  },
  {
   "cell_type": "code",
   "execution_count": 131,
   "metadata": {},
   "outputs": [],
   "source": [
    "from nltk.lm.preprocessing import padded_everygram_pipeline\n",
    "\n",
    "port_treino_bigram, vocab_port = padded_everygram_pipeline(2, todas_palavras_port)"
   ]
  },
  {
   "cell_type": "code",
   "execution_count": 132,
   "metadata": {},
   "outputs": [],
   "source": [
    "from nltk.lm import MLE\n",
    "\n",
    "modelo_port = MLE(2)\n",
    "\n",
    "modelo_port.fit(port_treino_bigram, vocab_port)"
   ]
  },
  {
   "cell_type": "code",
   "execution_count": 133,
   "metadata": {},
   "outputs": [],
   "source": [
    "def treinar_modelo_mle(lista_textos):\n",
    "    todas_questoes = ' '.join(lista_textos)\n",
    "\n",
    "    todas_palavras = WhitespaceTokenizer().tokenize(todas_questoes)\n",
    "    bigrams, vocab = padded_everygram_pipeline(2, todas_palavras)\n",
    "    \n",
    "    modelo = MLE(2)\n",
    "    modelo.fit(bigrams, vocab)\n",
    "\n",
    "    return modelo"
   ]
  },
  {
   "cell_type": "code",
   "execution_count": 134,
   "metadata": {},
   "outputs": [],
   "source": [
    "modelo_port = treinar_modelo_mle(port_treino)\n",
    "modelo_ing = treinar_modelo_mle(ing_treino)\n",
    "modelo_esp = treinar_modelo_mle(esp_treino)"
   ]
  },
  {
   "cell_type": "code",
   "execution_count": 135,
   "metadata": {},
   "outputs": [],
   "source": [
    "def calcular_perplexidade(modelo, texto):\n",
    "    perplexidade = 0\n",
    "    \n",
    "    palavras = WhitespaceTokenizer().tokenize(texto)\n",
    "    palavras_fakechar = [list(pad_both_ends(palavra, n=2)) for palavra in palavras]\n",
    "    palavras_bigrams = [list(bigrams(palavra)) for palavra in palavras_fakechar]\n",
    "\n",
    "    for palavra in palavras_bigrams:\n",
    "        perplexidade += modelo.perplexity(palavra)\n",
    "\n",
    "    return perplexidade"
   ]
  },
  {
   "cell_type": "code",
   "execution_count": 136,
   "metadata": {},
   "outputs": [
    {
     "data": {
      "text/plain": [
       "30.867120442692816"
      ]
     },
     "execution_count": 136,
     "metadata": {},
     "output_type": "execute_result"
    }
   ],
   "source": [
    "calcular_perplexidade(modelo_ing, \"good morning\")"
   ]
  },
  {
   "cell_type": "code",
   "execution_count": 137,
   "metadata": {},
   "outputs": [
    {
     "data": {
      "text/plain": [
       "inf"
      ]
     },
     "execution_count": 137,
     "metadata": {},
     "output_type": "execute_result"
    }
   ],
   "source": [
    "calcular_perplexidade(modelo_port, port_teste.iloc[0])"
   ]
  },
  {
   "cell_type": "markdown",
   "metadata": {},
   "source": [
    "### Laplace's Model"
   ]
  },
  {
   "cell_type": "code",
   "execution_count": 138,
   "metadata": {},
   "outputs": [],
   "source": [
    "from nltk.lm import Laplace\n",
    "\n",
    "def treinar_modelo_laplace(lista_textos):\n",
    "    todas_questoes = ' '.join(lista_textos)\n",
    "\n",
    "    todas_palavras = WhitespaceTokenizer().tokenize(todas_questoes)\n",
    "    bigrams, vocab = padded_everygram_pipeline(2, todas_palavras)\n",
    "    \n",
    "    modelo = Laplace(2)\n",
    "    modelo.fit(bigrams, vocab)\n",
    "\n",
    "    return modelo"
   ]
  },
  {
   "cell_type": "code",
   "execution_count": 139,
   "metadata": {},
   "outputs": [],
   "source": [
    "modelo_port_laplace = treinar_modelo_laplace(port_treino)\n",
    "modelo_ing_laplace = treinar_modelo_laplace(ing_treino)\n",
    "modelo_esp_lapalce = treinar_modelo_laplace(esp_treino)"
   ]
  },
  {
   "cell_type": "code",
   "execution_count": 142,
   "metadata": {},
   "outputs": [
    {
     "data": {
      "text/plain": [
       "852.1388896944829"
      ]
     },
     "execution_count": 142,
     "metadata": {},
     "output_type": "execute_result"
    }
   ],
   "source": [
    "calcular_perplexidade(modelo_port_laplace, port_teste.iloc[0])"
   ]
  },
  {
   "cell_type": "markdown",
   "metadata": {},
   "source": [
    "# Model To That Predicts Language from Text"
   ]
  },
  {
   "cell_type": "code",
   "execution_count": 147,
   "metadata": {},
   "outputs": [],
   "source": [
    "def atribui_idioma(lista_textos):\n",
    "    \n",
    "    idioma = []\n",
    "    for texto in lista_textos:\n",
    "        portugues = calcular_perplexidade(modelo_port, texto)\n",
    "        ingles = calcular_perplexidade(modelo_ing, texto)\n",
    "        espanhol = calcular_perplexidade(modelo_esp, texto)\n",
    "\n",
    "        if ingles >= portugues <= espanhol:\n",
    "            idioma.append(\"portugues\")\n",
    "        elif portugues > ingles < espanhol:\n",
    "            idioma.append(\"ingles\")\n",
    "        else:\n",
    "            idioma.append(\"espanhol\")\n",
    "\n",
    "    return idioma"
   ]
  },
  {
   "cell_type": "code",
   "execution_count": 153,
   "metadata": {},
   "outputs": [
    {
     "data": {
      "text/plain": [
       "100"
      ]
     },
     "execution_count": 153,
     "metadata": {},
     "output_type": "execute_result"
    }
   ],
   "source": [
    "resultados_portugues = atribui_idioma(port_teste)\n",
    "resultados_portugues.count(\"portugues\")"
   ]
  },
  {
   "cell_type": "code",
   "execution_count": 154,
   "metadata": {},
   "outputs": [
    {
     "data": {
      "text/plain": [
       "81"
      ]
     },
     "execution_count": 154,
     "metadata": {},
     "output_type": "execute_result"
    }
   ],
   "source": [
    "resultados_ingles = atribui_idioma(ing_teste)\n",
    "resultados_ingles.count(\"ingles\")"
   ]
  },
  {
   "cell_type": "code",
   "execution_count": 155,
   "metadata": {},
   "outputs": [
    {
     "data": {
      "text/plain": [
       "71"
      ]
     },
     "execution_count": 155,
     "metadata": {},
     "output_type": "execute_result"
    }
   ],
   "source": [
    "resultados_espanhol = atribui_idioma(esp_teste)\n",
    "resultados_espanhol.count(\"espanhol\")"
   ]
  }
 ],
 "metadata": {
  "kernelspec": {
   "display_name": ".venv",
   "language": "python",
   "name": "python3"
  },
  "language_info": {
   "codemirror_mode": {
    "name": "ipython",
    "version": 3
   },
   "file_extension": ".py",
   "mimetype": "text/x-python",
   "name": "python",
   "nbconvert_exporter": "python",
   "pygments_lexer": "ipython3",
   "version": "3.10.11"
  }
 },
 "nbformat": 4,
 "nbformat_minor": 2
}
